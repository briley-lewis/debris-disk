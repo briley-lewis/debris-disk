{
 "cells": [
  {
   "cell_type": "code",
   "execution_count": 1,
   "metadata": {},
   "outputs": [],
   "source": [
    "import numpy as np \n",
    "import matplotlib.pyplot as plt\n",
    "import math\n",
    "from astropy.io import fits"
   ]
  },
  {
   "cell_type": "code",
   "execution_count": 4,
   "metadata": {},
   "outputs": [
    {
     "name": "stdout",
     "output_type": "stream",
     "text": [
      "WISE\n",
      "[0.5020151  0.29990955 0.16869527 0.63206552]\n",
      "[0.02391726 0.00547397 0.00231459 0.01039239]\n",
      "2MASS\n",
      "[2.30266995 1.50518298 1.05983786]\n",
      "[0.05034165 0.03290676 0.02317049]\n",
      "Tycho\n",
      "[4.56296169 4.48976773]\n",
      "[0.45629617 0.44897677]\n"
     ]
    }
   ],
   "source": [
    "##data from various missions\n",
    "\n",
    "##ones that still need converting!\n",
    "def magtoJy(mag,zero):\n",
    "    exp = -mag/2.5\n",
    "    Jy = zero*(10**exp)\n",
    "    return Jy\n",
    "\n",
    "def conv_err(merr,mag,zero):\n",
    "    m = mag+merr\n",
    "    j = magtoJy(m,zero)\n",
    "    dF = magtoJy(mag,zero)-j\n",
    "    return dF\n",
    "\n",
    "###all in Jy\n",
    "Akari_lam = 9\n",
    "Akari_Jy = 0.2146 ##DQ = good\n",
    "Akari_err = 0.00798\n",
    "\n",
    "IRAS_lam = np.asarray([29,60])\n",
    "IRAS_Jy = np.asarray([0.7753,0.9953]) ##DQ = 1,3,3,1 (not sure what they mean, seems like higher # is better?)\n",
    "IRAS_err = 0.1*IRAS_Jy\n",
    "\n",
    "#taken from unWISE catalog, but data quality values are garbage\n",
    "#WISE_lam = np.asarray([3.35,4.6])\n",
    "#WISE_Jy = np.asarray([.448,.547]) ##DQ = good good\n",
    "#WISE_err = np.asarray([2.39e-04,6.21e-04])\n",
    "\n",
    "#taken from ALLWISE, great quality all As\n",
    "WISE_lam = np.asarray([3.35,4.6,11.6,22.1])\n",
    "WISE_mag = np.asarray([6.975,6.895,5.684,2.804])\n",
    "WISE_errm = np.asarray([0.053,0.020,0.015,0.018])\n",
    "WISE_Jy = np.asarray([magtoJy(WISE_mag[0],309.54),magtoJy(WISE_mag[1],171.787),magtoJy(WISE_mag[2],31.674),magtoJy(WISE_mag[3],8.363)])\n",
    "WISE_err = np.asarray([conv_err(WISE_errm[0],WISE_mag[0],309.54),conv_err(WISE_errm[1],WISE_mag[1],171.787),conv_err(WISE_errm[2],WISE_mag[2],31.674),conv_err(WISE_errm[3],WISE_mag[3],8.363)])\n",
    "print('WISE')\n",
    "print(WISE_Jy)\n",
    "print(WISE_err)\n",
    "\n",
    "##2MASS data\n",
    "MASS_lam = np.asarray([1.25,1.65,2.17])\n",
    "MASS_mag = np.asarray([7.089,7.109,7.01]) ##DQ = good, good, good\n",
    "MASS_err = np.asarray([0.024,0.024,0.024])\n",
    "MASS_errj = np.asarray([conv_err(MASS_err[0],MASS_mag[0],1577),conv_err(MASS_err[1],MASS_mag[1],1050),conv_err(MASS_err[2],MASS_mag[2],674.9)])\n",
    "MASS_Jy = np.asarray([magtoJy(MASS_mag[0],1577),magtoJy(MASS_mag[1],1050),magtoJy(MASS_mag[2],674.9)])\n",
    "print('2MASS')\n",
    "print(MASS_Jy)\n",
    "print(MASS_errj)\n",
    "\n",
    "##visible data (Tycho and Gaia)\n",
    "vis_lam = np.asarray([0.442,0.54])\n",
    "vis_mag = np.asarray([7.374,7.271]) ##DQ = good good\n",
    "vis_errm = np.asarray([np.nan,np.nan])\n",
    "vis_Jy = np.asarray([magtoJy(vis_mag[0],4063),magtoJy(vis_mag[1],3636)]) #previous zero points without sources 3985,3746\n",
    "vis_err = 0.1*vis_Jy\n",
    "print('Tycho')\n",
    "print(vis_Jy)\n",
    "print(vis_err)\n",
    "\n",
    "##ALMA\n",
    "ALMA_lam = 1240\n",
    "ALMA_Jy = 720e-6 ##DQ = not given\n",
    "ALMA_err = 110e-6"
   ]
  },
  {
   "cell_type": "code",
   "execution_count": 5,
   "metadata": {},
   "outputs": [],
   "source": [
    "##all good photometry and corresponding wavelengths in one array for fits\n",
    "phot = np.asarray([0.2146,0.7753,0.9953,0.5020151,0.29990955,0.16869527,0.63206552,2.30266995,1.50518298,1.05983786,4.56296169,4.48976773,720e-6])\n",
    "lam = np.asarray([9,29,60,3.35,4.6,11.6,22.1,1.25,1.65,2.17,0.442,0.54,1240])\n",
    "sigma = np.asarray([0.00798,0.077,0.099,0.02391726,0.00547397,0.00231459,0.01039239,0.05034165,0.03290676,0.02317049,0.45,0.44,110e-6])"
   ]
  },
  {
   "cell_type": "code",
   "execution_count": 6,
   "metadata": {},
   "outputs": [],
   "source": [
    "assert len(phot) == len(lam) == len(sigma)"
   ]
  },
  {
   "cell_type": "code",
   "execution_count": 7,
   "metadata": {},
   "outputs": [
    {
     "name": "stdout",
     "output_type": "stream",
     "text": [
      "111.75182155469133\n"
     ]
    }
   ],
   "source": [
    "###distance to HD 156623\n",
    "p=8.9484 #from Simbad\n",
    "d=1/(p*1e-3) #given in mas, distance in pc\n",
    "print(d)"
   ]
  },
  {
   "cell_type": "code",
   "execution_count": 8,
   "metadata": {},
   "outputs": [
    {
     "data": {
      "image/png": "[encoded data removed]",
      "text/plain": [
       "<Figure size 432x288 with 1 Axes>"
      ]
     },
     "metadata": {
      "needs_background": "light"
     },
     "output_type": "display_data"
    }
   ],
   "source": [
    "plt.errorbar(WISE_lam,WISE_Jy,yerr=WISE_err,fmt=\".\",label='WISE (Wright et al. 2010)')\n",
    "plt.errorbar(MASS_lam,MASS_Jy,yerr=MASS_errj,fmt=\".\",label='2MASS (Skrutskie et al. 2006)')\n",
    "plt.errorbar(vis_lam,vis_Jy,yerr=vis_err,fmt=\".\",label='Tycho (H$\\o$g et al. 2000)')\n",
    "plt.errorbar(IRAS_lam,IRAS_Jy,fmt=\".\",label='IRAS (Neugebauer et al. 1984)')\n",
    "plt.errorbar(Akari_lam,Akari_Jy,yerr=Akari_err,fmt=\".\",label='Akari (Ishihara 2010)')\n",
    "plt.errorbar(ALMA_lam,ALMA_Jy,yerr=ALMA_err,fmt=\".\",label='ALMA (Lieman-Sifry et al. 2016)')\n",
    "plt.legend(loc=3)\n",
    "ax = plt.gca()\n",
    "ax.set_xscale('log')\n",
    "ax.set_yscale('log')\n",
    "plt.xlabel('Wavelength ($\\mu$m)')\n",
    "plt.ylabel('Flux Density (Jy)')\n",
    "plt.savefig('../plots/HD156623-photometry.png',dpi=500)"
   ]
  },
  {
   "cell_type": "code",
   "execution_count": 10,
   "metadata": {},
   "outputs": [],
   "source": [
    "##let's try making our own blackbody\n",
    "import sys\n",
    "sys.path.append('../')\n",
    "from cgs import *\n",
    "def Bv_lam(T,lam):\n",
    "    '''Bv in terms of wavelength—all in cgs units'''\n",
    "    exp = np.exp((h*c)/(lam*k*T))\n",
    "    Bv = (2*h*c)/(lam**3) * (1/(exp-1))\n",
    "    return Bv\n",
    "\n",
    "wavelengths = np.linspace(5e-6,0.5,10000000) #wavelengths are in cm, multiply by 1e4 to get microns\n",
    "\n",
    "#and we need to convert to Jy\n",
    "def toJy_star(Bv,Rstar):\n",
    "    \"\"\"planck fn erg/s/cm2/sr/hz to jy (1e23 erg/s/cm2/hz),scaled by distance to hd15623 (111pc), Rstar for A0V ~2Rsun. \n",
    "    Rstar in solar radii, T in Kelvin, Bv in erg/s/cm2/sr/Hz\"\"\"\n",
    "    cm = Rstar*7e10 #cm\n",
    "    sr = (cm**2) #cm2\n",
    "    steradians = np.pi #sr converts from brightness to flux\n",
    "    Bv = Bv*sr*steradians #erg/s/cm2/sr/hz times cm2 and sr = erg/s/hz\n",
    "    d = 112*(3e18) #pc to cm\n",
    "    Bv = Bv/(d**2) #erg/s/sr/hz divided by cm2 = erg/s/cm2/sr/hz\n",
    "    Jy = Bv*1e23 #1 erg/s/cm2/hz = 1e23 Jy\n",
    "    return Jy\n",
    "\n",
    "def toJy_disk(Bv,A):\n",
    "    \"\"\"planck fn erg/s/cm2/sr/hz to jy (1e23 erg/s/cm2/hz),scaled by distance to hd15623 (111pc), Rstar for A0V ~2Rsun. \n",
    "    Rstar in solar radii, T in Kelvin, Bv in erg/s/cm2/sr/Hz\"\"\"\n",
    "    steradians = np.pi #sr\n",
    "    Bv = Bv*A*steradians #erg/s/cm2/sr/hz times cm2 and sr = erg/s/hz\n",
    "    d = 112*(3e18) #pc to cm\n",
    "    Bv = Bv/(d**2) #erg/s/sr/hz divided by cm2 = erg/s/cm2/sr/hz\n",
    "    Jy = Bv*1e23 #1 erg/s/cm2/hz = 1e23 Jy\n",
    "    return Jy"
   ]
  },
  {
   "cell_type": "code",
   "execution_count": null,
   "metadata": {},
   "outputs": [],
   "source": []
  }
 ],
 "metadata": {
  "kernelspec": {
   "display_name": "Python 3",
   "language": "python",
   "name": "python3"
  },
  "language_info": {
   "codemirror_mode": {
    "name": "ipython",
    "version": 3
   },
   "file_extension": ".py",
   "mimetype": "text/x-python",
   "name": "python",
   "nbconvert_exporter": "python",
   "pygments_lexer": "ipython3",
   "version": "3.7.6"
  }
 },
 "nbformat": 4,
 "nbformat_minor": 4
}
